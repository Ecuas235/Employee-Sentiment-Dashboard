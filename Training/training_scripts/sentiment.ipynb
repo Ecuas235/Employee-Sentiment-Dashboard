{
 "cells": [
  {
   "cell_type": "code",
   "execution_count": 1,
   "metadata": {},
   "outputs": [],
   "source": [
    "import pandas as pd\n",
    "import numpy as np\n",
    "import matplotlib.pyplot as plt\n",
    "import seaborn as sns"
   ]
  },
  {
   "cell_type": "code",
   "execution_count": 2,
   "metadata": {},
   "outputs": [
    {
     "data": {
      "text/html": [
       "<div>\n",
       "<style scoped>\n",
       "    .dataframe tbody tr th:only-of-type {\n",
       "        vertical-align: middle;\n",
       "    }\n",
       "\n",
       "    .dataframe tbody tr th {\n",
       "        vertical-align: top;\n",
       "    }\n",
       "\n",
       "    .dataframe thead th {\n",
       "        text-align: right;\n",
       "    }\n",
       "</style>\n",
       "<table border=\"1\" class=\"dataframe\">\n",
       "  <thead>\n",
       "    <tr style=\"text-align: right;\">\n",
       "      <th></th>\n",
       "      <th>review</th>\n",
       "      <th>processed_review</th>\n",
       "      <th>label</th>\n",
       "    </tr>\n",
       "  </thead>\n",
       "  <tbody>\n",
       "    <tr>\n",
       "      <th>0</th>\n",
       "      <td>It was nothing so specific</td>\n",
       "      <td>nothing specific</td>\n",
       "      <td>2</td>\n",
       "    </tr>\n",
       "    <tr>\n",
       "      <th>1</th>\n",
       "      <td>Nothing, literally nothing</td>\n",
       "      <td>nothing literally nothing</td>\n",
       "      <td>0</td>\n",
       "    </tr>\n",
       "    <tr>\n",
       "      <th>2</th>\n",
       "      <td>Brother, do not just put bus on the night</td>\n",
       "      <td>brother not put bus night</td>\n",
       "      <td>0</td>\n",
       "    </tr>\n",
       "    <tr>\n",
       "      <th>3</th>\n",
       "      <td>Initially I enjoyed working in Mesh as there w...</td>\n",
       "      <td>initially enjoyed working mesh lot learning fo...</td>\n",
       "      <td>3</td>\n",
       "    </tr>\n",
       "    <tr>\n",
       "      <th>4</th>\n",
       "      <td>Salary and benefits</td>\n",
       "      <td>salary benefits</td>\n",
       "      <td>0</td>\n",
       "    </tr>\n",
       "    <tr>\n",
       "      <th>...</th>\n",
       "      <td>...</td>\n",
       "      <td>...</td>\n",
       "      <td>...</td>\n",
       "    </tr>\n",
       "    <tr>\n",
       "      <th>5007</th>\n",
       "      <td>• learning delivery benefits</td>\n",
       "      <td>learning delivery benefits</td>\n",
       "      <td>3</td>\n",
       "    </tr>\n",
       "    <tr>\n",
       "      <th>5008</th>\n",
       "      <td>good work together and our team dedication are...</td>\n",
       "      <td>good work together team dedication welcome</td>\n",
       "      <td>3</td>\n",
       "    </tr>\n",
       "    <tr>\n",
       "      <th>5009</th>\n",
       "      <td>good drinking environment while our team mates...</td>\n",
       "      <td>good drinking environment team mates satisfied</td>\n",
       "      <td>3</td>\n",
       "    </tr>\n",
       "    <tr>\n",
       "      <th>5010</th>\n",
       "      <td>high focus drives where values work in day to ...</td>\n",
       "      <td>high focus drives values work day date setting...</td>\n",
       "      <td>3</td>\n",
       "    </tr>\n",
       "    <tr>\n",
       "      <th>5011</th>\n",
       "      <td>high focus on making knowledge clearer in day ...</td>\n",
       "      <td>high focus making knowledge clearer day help d...</td>\n",
       "      <td>3</td>\n",
       "    </tr>\n",
       "  </tbody>\n",
       "</table>\n",
       "<p>5012 rows × 3 columns</p>\n",
       "</div>"
      ],
      "text/plain": [
       "                                                 review  \\\n",
       "0                            It was nothing so specific   \n",
       "1                            Nothing, literally nothing   \n",
       "2             Brother, do not just put bus on the night   \n",
       "3     Initially I enjoyed working in Mesh as there w...   \n",
       "4                                   Salary and benefits   \n",
       "...                                                 ...   \n",
       "5007                       • learning delivery benefits   \n",
       "5008  good work together and our team dedication are...   \n",
       "5009  good drinking environment while our team mates...   \n",
       "5010  high focus drives where values work in day to ...   \n",
       "5011  high focus on making knowledge clearer in day ...   \n",
       "\n",
       "                                       processed_review  label  \n",
       "0                                      nothing specific      2  \n",
       "1                             nothing literally nothing      0  \n",
       "2                             brother not put bus night      0  \n",
       "3     initially enjoyed working mesh lot learning fo...      3  \n",
       "4                                       salary benefits      0  \n",
       "...                                                 ...    ...  \n",
       "5007                         learning delivery benefits      3  \n",
       "5008         good work together team dedication welcome      3  \n",
       "5009     good drinking environment team mates satisfied      3  \n",
       "5010  high focus drives values work day date setting...      3  \n",
       "5011  high focus making knowledge clearer day help d...      3  \n",
       "\n",
       "[5012 rows x 3 columns]"
      ]
     },
     "execution_count": 2,
     "metadata": {},
     "output_type": "execute_result"
    }
   ],
   "source": [
    "df = pd.read_csv('../EY Tool/data/labels_dataset.csv')\n",
    "df.drop(columns=['Unnamed: 0'], inplace=True)\n",
    "df"
   ]
  },
  {
   "cell_type": "code",
   "execution_count": 3,
   "metadata": {},
   "outputs": [
    {
     "data": {
      "text/plain": [
       "(5012, 3)"
      ]
     },
     "execution_count": 3,
     "metadata": {},
     "output_type": "execute_result"
    }
   ],
   "source": [
    "df.shape"
   ]
  },
  {
   "cell_type": "code",
   "execution_count": 4,
   "metadata": {},
   "outputs": [
    {
     "data": {
      "image/png": "[encoded data removed]",
      "text/plain": [
       "<Figure size 1000x500 with 1 Axes>"
      ]
     },
     "metadata": {},
     "output_type": "display_data"
    }
   ],
   "source": [
    "ax = df['label'].value_counts().sort_index() \\\n",
    "    .plot(kind='bar',\n",
    "          title='Count of Reviews by Stars',\n",
    "          figsize=(10, 5))\n",
    "ax.set_xlabel('Review Stars')\n",
    "plt.show()"
   ]
  },
  {
   "cell_type": "code",
   "execution_count": 5,
   "metadata": {},
   "outputs": [
    {
     "data": {
      "text/plain": [
       "('big company lapsed process removed many employees instead helping crucial time worst ever company',\n",
       " 1)"
      ]
     },
     "execution_count": 5,
     "metadata": {},
     "output_type": "execute_result"
    }
   ],
   "source": [
    "example = df['processed_review'][215]\n",
    "rating = df['label'][215]\n",
    "example, rating"
   ]
  },
  {
   "cell_type": "code",
   "execution_count": 6,
   "metadata": {},
   "outputs": [],
   "source": [
    "import torch\n",
    "from transformers import AutoTokenizer\n",
    "\n",
    "# Create The Dataset Class.\n",
    "class TheDataset(torch.utils.data.Dataset):\n",
    "\n",
    "    def __init__(self, reviews, sentiments, tokenizer):\n",
    "        self.reviews    = reviews\n",
    "        self.sentiments = sentiments\n",
    "        self.tokenizer  = tokenizer\n",
    "        self.max_len    = tokenizer.model_max_length\n",
    "        # self.device = torch.device(\"cuda\" if torch.cuda.is_available() else \"cpu\")\n",
    "  \n",
    "    def __len__(self):\n",
    "        return len(self.reviews)\n",
    "  \n",
    "    def __getitem__(self, index):\n",
    "        review = str(self.reviews[index])\n",
    "        sentiments = self.sentiments[index]\n",
    "\n",
    "        encoded_review = self.tokenizer.encode_plus(\n",
    "            review,\n",
    "            add_special_tokens    = True,\n",
    "            max_length            = self.max_len,\n",
    "            return_token_type_ids = False,\n",
    "            return_attention_mask = True,\n",
    "            return_tensors        = \"pt\",\n",
    "            padding               = \"max_length\",\n",
    "            truncation            = True\n",
    "        )\n",
    "\n",
    "        return {\n",
    "            'input_ids': encoded_review['input_ids'][0],\n",
    "            'attention_mask': encoded_review['attention_mask'][0],\n",
    "            'labels': torch.tensor(sentiments, dtype=torch.long)\n",
    "        }"
   ]
  },
  {
   "cell_type": "code",
   "execution_count": 7,
   "metadata": {},
   "outputs": [],
   "source": [
    "from sklearn.model_selection import train_test_split\n",
    "X = df['processed_review'].tolist()\n",
    "Y = df['label'].tolist()\n",
    "\n",
    "combined_data = list(zip(X, Y))\n",
    "np.random.shuffle(combined_data)\n",
    "X_shuffled, Y_shuffled = zip(*combined_data)\n",
    "\n",
    "X_train, X_temp, y_train, y_temp = train_test_split(X_shuffled, Y_shuffled, test_size=0.2, random_state=42)\n",
    "X_val, X_test, y_val, y_test = train_test_split(X_temp, y_temp, test_size=0.5, random_state=42)"
   ]
  },
  {
   "cell_type": "code",
   "execution_count": 8,
   "metadata": {},
   "outputs": [
    {
     "name": "stdout",
     "output_type": "stream",
     "text": [
      "Training set class proportions: {0: 0.2025442753803941, 1: 0.2030431529059616, 2: 0.20503866300823148, 3: 0.19680718383636817, 4: 0.19256672486904464}\n",
      "Validation set class proportions: {0: 0.19760479041916168, 1: 0.17564870259481039, 2: 0.2215568862275449, 3: 0.1996007984031936, 4: 0.2055888223552894}\n",
      "Testing set class proportions: {0: 0.17928286852589642, 1: 0.19123505976095617, 2: 0.18127490039840638, 3: 0.2290836653386454, 4: 0.21912350597609562}\n"
     ]
    }
   ],
   "source": [
    "def class_proportions(y):\n",
    "    unique, counts = np.unique(y, return_counts=True)\n",
    "    return dict(zip(unique, counts / len(y)))\n",
    "\n",
    "print(\"Training set class proportions:\", class_proportions(y_train))\n",
    "print(\"Validation set class proportions:\", class_proportions(y_val))\n",
    "print(\"Testing set class proportions:\", class_proportions(y_test))"
   ]
  },
  {
   "cell_type": "code",
   "execution_count": 9,
   "metadata": {},
   "outputs": [],
   "source": [
    "tokenizer = AutoTokenizer.from_pretrained(\"nlptown/bert-base-multilingual-uncased-sentiment\")\n",
    "# Create Dataset objects for train/validation sets.\n",
    "train_set_dataset = TheDataset(\n",
    "    reviews    = X_train,\n",
    "    sentiments = y_train,\n",
    "    tokenizer  = tokenizer,\n",
    ")"
   ]
  },
  {
   "cell_type": "code",
   "execution_count": 10,
   "metadata": {},
   "outputs": [],
   "source": [
    "valid_set_dataset = TheDataset(\n",
    "    reviews    = X_val,\n",
    "    sentiments = y_val,\n",
    "    tokenizer  = tokenizer,\n",
    ")"
   ]
  },
  {
   "cell_type": "code",
   "execution_count": 11,
   "metadata": {},
   "outputs": [],
   "source": [
    "train_set_dataloader = torch.utils.data.DataLoader(\n",
    "    train_set_dataset,\n",
    "    batch_size  = 16,\n",
    "    num_workers = 4\n",
    ")\n",
    "\n",
    "valid_set_dataloader = torch.utils.data.DataLoader(\n",
    "    valid_set_dataset,\n",
    "    batch_size  = 16,\n",
    "    num_workers = 4\n",
    ")"
   ]
  },
  {
   "cell_type": "code",
   "execution_count": 12,
   "metadata": {},
   "outputs": [],
   "source": [
    "from transformers import AutoModelForSequenceClassification, Trainer, TrainingArguments\n",
    "\n",
    "model = AutoModelForSequenceClassification.from_pretrained(\"nlptown/bert-base-multilingual-uncased-sentiment\")"
   ]
  },
  {
   "cell_type": "code",
   "execution_count": 13,
   "metadata": {},
   "outputs": [],
   "source": [
    "for name, param in model.bert.named_parameters():\n",
    "    if ( not name.startswith('pooler') ) and \"layer.23\" not in name :\n",
    "        param.requires_grad = False"
   ]
  },
  {
   "cell_type": "code",
   "execution_count": 14,
   "metadata": {},
   "outputs": [
    {
     "data": {
      "application/vnd.jupyter.widget-view+json": {
       "model_id": "14caeaad8d9c4a989fac017fd6de88ba",
       "version_major": 2,
       "version_minor": 0
      },
      "text/plain": [
       "  0%|          | 0/1890 [00:00<?, ?it/s]"
      ]
     },
     "metadata": {},
     "output_type": "display_data"
    },
    {
     "name": "stdout",
     "output_type": "stream",
     "text": [
      "{'loss': 1.2947, 'grad_norm': 1.0142825841903687, 'learning_rate': 5e-05, 'epoch': 3.97}\n"
     ]
    },
    {
     "data": {
      "application/vnd.jupyter.widget-view+json": {
       "model_id": "d55ad6281ce545f692e319d68d174f42",
       "version_major": 2,
       "version_minor": 0
      },
      "text/plain": [
       "  0%|          | 0/16 [00:00<?, ?it/s]"
      ]
     },
     "metadata": {},
     "output_type": "display_data"
    },
    {
     "name": "stdout",
     "output_type": "stream",
     "text": [
      "{'eval_loss': 1.1736128330230713, 'eval_accuracy': 0.5469061876247505, 'eval_f1': 0.5451756905109241, 'eval_precision': 0.5450387257318848, 'eval_recall': 0.5469061876247505, 'eval_runtime': 47.6991, 'eval_samples_per_second': 10.503, 'eval_steps_per_second': 0.335, 'epoch': 3.97}\n",
      "{'loss': 1.1274, 'grad_norm': 1.2785018682479858, 'learning_rate': 3.201438848920863e-05, 'epoch': 7.94}\n"
     ]
    },
    {
     "data": {
      "application/vnd.jupyter.widget-view+json": {
       "model_id": "5274021321cf49398569b8c3d968d01d",
       "version_major": 2,
       "version_minor": 0
      },
      "text/plain": [
       "  0%|          | 0/16 [00:00<?, ?it/s]"
      ]
     },
     "metadata": {},
     "output_type": "display_data"
    },
    {
     "name": "stdout",
     "output_type": "stream",
     "text": [
      "{'eval_loss': 1.0918807983398438, 'eval_accuracy': 0.5828343313373253, 'eval_f1': 0.5757189504435801, 'eval_precision': 0.581470519487302, 'eval_recall': 0.5828343313373253, 'eval_runtime': 46.7183, 'eval_samples_per_second': 10.724, 'eval_steps_per_second': 0.342, 'epoch': 7.94}\n",
      "{'loss': 1.084, 'grad_norm': 1.365444302558899, 'learning_rate': 1.4028776978417266e-05, 'epoch': 11.9}\n"
     ]
    },
    {
     "data": {
      "application/vnd.jupyter.widget-view+json": {
       "model_id": "c25352ba390c4ff1add12c87a339e0ac",
       "version_major": 2,
       "version_minor": 0
      },
      "text/plain": [
       "  0%|          | 0/16 [00:00<?, ?it/s]"
      ]
     },
     "metadata": {},
     "output_type": "display_data"
    },
    {
     "name": "stdout",
     "output_type": "stream",
     "text": [
      "{'eval_loss': 1.0801273584365845, 'eval_accuracy': 0.5708582834331337, 'eval_f1': 0.5672302722220218, 'eval_precision': 0.5702750020293152, 'eval_recall': 0.5708582834331337, 'eval_runtime': 43.8861, 'eval_samples_per_second': 11.416, 'eval_steps_per_second': 0.365, 'epoch': 11.9}\n",
      "{'train_runtime': 5603.032, 'train_samples_per_second': 10.733, 'train_steps_per_second': 0.337, 'train_loss': 1.1492468778418485, 'epoch': 15.0}\n"
     ]
    },
    {
     "data": {
      "text/plain": [
       "TrainOutput(global_step=1890, training_loss=1.1492468778418485, metrics={'train_runtime': 5603.032, 'train_samples_per_second': 10.733, 'train_steps_per_second': 0.337, 'train_loss': 1.1492468778418485, 'epoch': 15.0})"
      ]
     },
     "execution_count": 14,
     "metadata": {},
     "output_type": "execute_result"
    }
   ],
   "source": [
    "from sklearn.metrics import accuracy_score, precision_recall_fscore_support\n",
    "\n",
    "def compute_metrics(pred):\n",
    "    labels = pred.label_ids\n",
    "    preds = pred.predictions.argmax(-1)\n",
    "    precision, recall, f1, _ = precision_recall_fscore_support(labels, preds, average='weighted')\n",
    "    acc = accuracy_score(labels, preds)\n",
    "    return {\n",
    "        'accuracy': acc,\n",
    "\n",
    "\n",
    "        'f1': f1,\n",
    "        'precision': precision,\n",
    "        'recall': recall\n",
    "    }\n",
    "\n",
    "training_args = TrainingArguments(\n",
    "    output_dir                  = \"./sentiment-analysis\",\n",
    "    num_train_epochs            = 15,\n",
    "    per_device_train_batch_size = 32,\n",
    "    per_device_eval_batch_size  = 32,\n",
    "    warmup_steps                = 500,\n",
    "    weight_decay                = 0.01,\n",
    "    save_strategy               = \"epoch\",\n",
    "    evaluation_strategy         = \"steps\"\n",
    ")\n",
    "\n",
    "trainer = Trainer(\n",
    "    model           = model,\n",
    "    args            = training_args,\n",
    "    train_dataset   = train_set_dataset,\n",
    "    \n",
    "    eval_dataset    = valid_set_dataset,\n",
    "    compute_metrics = compute_metrics\n",
    "    \n",
    ")\n",
    "\n",
    "trainer.train()"
   ]
  },
  {
   "cell_type": "code",
   "execution_count": 15,
   "metadata": {},
   "outputs": [
    {
     "data": {
      "application/vnd.jupyter.widget-view+json": {
       "model_id": "e6d81e99746044b6b4d1c6473adaa73e",
       "version_major": 2,
       "version_minor": 0
      },
      "text/plain": [
       "  0%|          | 0/16 [00:00<?, ?it/s]"
      ]
     },
     "metadata": {},
     "output_type": "display_data"
    },
    {
     "data": {
      "text/plain": [
       "{'eval_loss': 1.07370924949646,\n",
       " 'eval_accuracy': 0.564870259481038,\n",
       " 'eval_f1': 0.5608505820036007,\n",
       " 'eval_precision': 0.561978212531929,\n",
       " 'eval_recall': 0.564870259481038,\n",
       " 'eval_runtime': 41.9483,\n",
       " 'eval_samples_per_second': 11.943,\n",
       " 'eval_steps_per_second': 0.381,\n",
       " 'epoch': 15.0}"
      ]
     },
     "execution_count": 15,
     "metadata": {},
     "output_type": "execute_result"
    },
    {
     "ename": "",
     "evalue": "",
     "output_type": "error",
     "traceback": [
      "\u001b[1;31mThe Kernel crashed while executing code in the current cell or a previous cell. \n",
      "\u001b[1;31mPlease review the code in the cell(s) to identify a possible cause of the failure. \n",
      "\u001b[1;31mClick <a href='https://aka.ms/vscodeJupyterKernelCrash'>here</a> for more info. \n",
      "\u001b[1;31mView Jupyter <a href='command:jupyter.viewOutput'>log</a> for further details."
     ]
    }
   ],
   "source": [
    "trainer.evaluate(eval_dataset=valid_set_dataset)"
   ]
  },
  {
   "cell_type": "code",
   "execution_count": null,
   "metadata": {},
   "outputs": [],
   "source": []
  }
 ],
 "metadata": {
  "kernelspec": {
   "display_name": "college",
   "language": "python",
   "name": "python3"
  },
  "language_info": {
   "codemirror_mode": {
    "name": "ipython",
    "version": 3
   },
   "file_extension": ".py",
   "mimetype": "text/x-python",
   "name": "python",
   "nbconvert_exporter": "python",
   "pygments_lexer": "ipython3",
   "version": "3.10.13"
  }
 },
 "nbformat": 4,
 "nbformat_minor": 2
}
